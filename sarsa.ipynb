{
 "cells": [
  {
   "cell_type": "code",
   "execution_count": null,
   "metadata": {
    "collapsed": false
   },
   "outputs": [],
   "source": [
    "%matplotlib inline"
   ]
  },
  {
   "cell_type": "code",
   "execution_count": null,
   "metadata": {
    "collapsed": true
   },
   "outputs": [],
   "source": [
    "import sys\n",
    "import numpy as np\n",
    "import matplotlib.pyplot as plt\n",
    "from mpl_toolkits.mplot3d import Axes3D"
   ]
  },
  {
   "cell_type": "code",
   "execution_count": null,
   "metadata": {
    "collapsed": true
   },
   "outputs": [],
   "source": [
    "from mountaincar import MountainCar, MountainCarViewer"
   ]
  },
  {
   "cell_type": "code",
   "execution_count": null,
   "metadata": {
    "collapsed": true
   },
   "outputs": [],
   "source": [
    "car = MountainCar()"
   ]
  },
  {
   "cell_type": "markdown",
   "metadata": {},
   "source": [
    "### Parameters"
   ]
  },
  {
   "cell_type": "code",
   "execution_count": null,
   "metadata": {
    "collapsed": true
   },
   "outputs": [],
   "source": [
    "# grid discretisation\n",
    "ngrid_pos = 20\n",
    "ngrid_speed = 20"
   ]
  },
  {
   "cell_type": "code",
   "execution_count": null,
   "metadata": {
    "collapsed": true
   },
   "outputs": [],
   "source": [
    "# grid corners\n",
    "int_pos = -150, 30\n",
    "int_speed = -15, 15"
   ]
  },
  {
   "cell_type": "code",
   "execution_count": null,
   "metadata": {
    "collapsed": true
   },
   "outputs": [],
   "source": [
    "# exploration/expoitation parameter\n",
    "# -> inf more exploration\n",
    "# -> 0 more exploitation\n",
    "tau = 1."
   ]
  },
  {
   "cell_type": "code",
   "execution_count": null,
   "metadata": {
    "collapsed": true
   },
   "outputs": [],
   "source": [
    "gamma = 0.95\n",
    "lmbda = 0.95\n",
    "eta = 0.001"
   ]
  },
  {
   "cell_type": "code",
   "execution_count": null,
   "metadata": {
    "collapsed": false
   },
   "outputs": [],
   "source": [
    "dt = 0.01\n",
    "steps = 100"
   ]
  },
  {
   "cell_type": "markdown",
   "metadata": {},
   "source": [
    "### Initialisation"
   ]
  },
  {
   "cell_type": "code",
   "execution_count": null,
   "metadata": {
    "collapsed": true
   },
   "outputs": [],
   "source": [
    "x_pos, center_dist_pos = np.linspace(int_pos[0], int_pos[1], ngrid_pos, retstep=True)\n",
    "y_speed, center_dist_speed = np.linspace(int_speed[0], int_speed[1], ngrid_speed, retstep=True)\n",
    "y_speed_t = y_speed.reshape(-1, 1)"
   ]
  },
  {
   "cell_type": "markdown",
   "metadata": {},
   "source": [
    "### Helper functions"
   ]
  },
  {
   "cell_type": "code",
   "execution_count": null,
   "metadata": {
    "collapsed": true
   },
   "outputs": [],
   "source": [
    "def reward_activity(s):\n",
    "    activity = np.exp(- ((x_pos - s[0]) / center_dist_pos) ** 2 - ((y_speed_t - s[1]) / center_dist_speed) ** 2)\n",
    "    return activity.T"
   ]
  },
  {
   "cell_type": "code",
   "execution_count": null,
   "metadata": {
    "collapsed": true
   },
   "outputs": [],
   "source": [
    "def Q(s, a, w):\n",
    "    return np.sum(w[:, :, a] * reward_activity(s))"
   ]
  },
  {
   "cell_type": "code",
   "execution_count": null,
   "metadata": {
    "collapsed": false
   },
   "outputs": [],
   "source": [
    "def softmax(x, tau):\n",
    "    e_x = np.exp(np.minimum(np.array(x) / tau, 30))\n",
    "    return e_x / e_x.sum()"
   ]
  },
  {
   "cell_type": "markdown",
   "metadata": {},
   "source": [
    "### Plot functions"
   ]
  },
  {
   "cell_type": "code",
   "execution_count": null,
   "metadata": {
    "collapsed": false
   },
   "outputs": [],
   "source": [
    "def vec_plot(p):\n",
    "    p_max = np.argmax(p, axis=2)\n",
    "    U = (p_max == 0) * 1 + (p_max == 1) * -1\n",
    "    V = np.zeros((ngrid_pos, ngrid_speed))\n",
    "    \n",
    "    plt.quiver(U, V, alpha=1, scale=1.8, units='xy')\n",
    "\n",
    "    plt.xlim(-1, 20)\n",
    "    plt.xticks(())\n",
    "    plt.ylim(-1, 20)\n",
    "    plt.yticks(())\n",
    "    \n",
    "    plt.xlabel('position $x$')\n",
    "    plt.ylabel('speed $\\dot x$')\n",
    "    plt.title('Q-values direction vector field (arrows show the direction of applied force)')\n",
    "\n",
    "    plt.show()"
   ]
  },
  {
   "cell_type": "code",
   "execution_count": null,
   "metadata": {
    "collapsed": false
   },
   "outputs": [],
   "source": [
    "def plot3D(q):\n",
    "    fig = plt.figure()\n",
    "    ax = fig.add_subplot(111, projection='3d')\n",
    "    \n",
    "    x, y = np.meshgrid(x_pos, y_speed)\n",
    "    ax.plot_wireframe(x, y, q, color='grey')\n",
    "    ax.set_xlabel('position')\n",
    "    ax.set_ylabel('speed')\n",
    "    ax.set_zlabel('max q')\n",
    "    \n",
    "    plt.show()"
   ]
  },
  {
   "cell_type": "markdown",
   "metadata": {},
   "source": [
    "## Sarsa Algorithm"
   ]
  },
  {
   "cell_type": "code",
   "execution_count": null,
   "metadata": {
    "collapsed": false,
    "scrolled": false
   },
   "outputs": [],
   "source": [
    "probs = []\n",
    "times = []\n",
    "np.random.seed(345435)\n",
    "np.seterr(over='raise')\n",
    "\n",
    "# initial random weights\n",
    "w = np.zeros((ngrid_pos, ngrid_speed, 3))\n",
    "\n",
    "i = 0\n",
    "for epi in np.arange(1000):\n",
    "    print(\"episode :\", epi)\n",
    "    \n",
    "    # null eligibility traces\n",
    "    e = np.zeros((ngrid_pos, ngrid_speed, 3))\n",
    "    \n",
    "    # initial state\n",
    "    car.reset()\n",
    "    s0 = car.x, car.x_d\n",
    "    \n",
    "    # initial random action\n",
    "    a0 = np.random.randint(3)\n",
    "    \n",
    "    j = 0\n",
    "    while True:\n",
    "        i += 1\n",
    "        j += 1\n",
    "        \n",
    "        # take action between -1, 0 and 1\n",
    "        car.apply_force(a0 - 1)\n",
    "        car.simulate_timesteps(steps, dt)\n",
    "        \n",
    "        # retrieve current state and closest discret state\n",
    "        s1 = car.x, car.x_d\n",
    "        \n",
    "        # compute proba for each action and choose among them\n",
    "        p = softmax([Q(s1, a, w) for a in range(3)], tau)\n",
    "        a1 = np.random.choice(range(3), p=p)\n",
    "                \n",
    "        # decrease eligibility traces and increase selection action\n",
    "        e *= gamma * lmbda\n",
    "        e[:, :, a0] += reward_activity(s0)[:, :]\n",
    "        \n",
    "        # update weights\n",
    "        delta = car.R + gamma * Q(s1, a1, w) - Q(s0, a0, w) - j/1000.\n",
    "        w += eta * delta * e\n",
    "\n",
    "        # propagate next action and state\n",
    "        a0 = a1\n",
    "        s0 = s1\n",
    "        \n",
    "        if i % 1000 == 0:\n",
    "            plot3D(-np.max([[[Q((x, y), a, w) for a in range(3)] for x in x_pos] for y in y_speed], axis=2))\n",
    "            plt.show()\n",
    "        \n",
    "        if car.R > 0.0:\n",
    "            print('reward obtained at t = ', car.t)\n",
    "            break\n",
    "    \n",
    "    prob = np.array([[softmax(np.array([Q((x, y), a, w) for a in range(3)]), tau) for y in y_speed] for x in x_pos])\n",
    "    probs.append(prob)\n",
    "    times.append(car.t)"
   ]
  },
  {
   "cell_type": "code",
   "execution_count": null,
   "metadata": {
    "collapsed": false
   },
   "outputs": [],
   "source": [
    "vec_plot(probs[-1])\n",
    "plt.show()"
   ]
  },
  {
   "cell_type": "code",
   "execution_count": null,
   "metadata": {
    "collapsed": false
   },
   "outputs": [],
   "source": [
    "plt.plot(times)\n",
    "plt.plot(np.convolve(np.ones(25) / 25, times, mode='full'))\n",
    "plt.show()"
   ]
  },
  {
   "cell_type": "code",
   "execution_count": null,
   "metadata": {
    "collapsed": false
   },
   "outputs": [],
   "source": [
    "times[-10:-1]"
   ]
  },
  {
   "cell_type": "code",
   "execution_count": null,
   "metadata": {
    "collapsed": true
   },
   "outputs": [],
   "source": []
  }
 ],
 "metadata": {
  "kernelspec": {
   "display_name": "Python 3",
   "language": "python",
   "name": "python3"
  },
  "language_info": {
   "codemirror_mode": {
    "name": "ipython",
    "version": 3
   },
   "file_extension": ".py",
   "mimetype": "text/x-python",
   "name": "python",
   "nbconvert_exporter": "python",
   "pygments_lexer": "ipython3",
   "version": "3.6.0"
  }
 },
 "nbformat": 4,
 "nbformat_minor": 2
}
