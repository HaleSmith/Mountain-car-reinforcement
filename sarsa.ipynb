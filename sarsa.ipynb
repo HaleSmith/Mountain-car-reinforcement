{
 "cells": [
  {
   "cell_type": "code",
   "execution_count": null,
   "metadata": {
    "collapsed": false
   },
   "outputs": [],
   "source": [
    "%matplotlib inline"
   ]
  },
  {
   "cell_type": "code",
   "execution_count": null,
   "metadata": {
    "collapsed": true
   },
   "outputs": [],
   "source": [
    "import sys\n",
    "import numpy as np\n",
    "import matplotlib.pyplot as plt\n",
    "import pandas as pd\n",
    "\n",
    "from mpl_toolkits.mplot3d import Axes3D"
   ]
  },
  {
   "cell_type": "code",
   "execution_count": null,
   "metadata": {
    "collapsed": true
   },
   "outputs": [],
   "source": [
    "from mountaincar import MountainCar, MountainCarViewer"
   ]
  },
  {
   "cell_type": "code",
   "execution_count": null,
   "metadata": {
    "collapsed": false
   },
   "outputs": [],
   "source": [
    "np.seterr(over='raise');"
   ]
  },
  {
   "cell_type": "code",
   "execution_count": null,
   "metadata": {
    "collapsed": true
   },
   "outputs": [],
   "source": [
    "car = MountainCar()"
   ]
  },
  {
   "cell_type": "markdown",
   "metadata": {},
   "source": [
    "### Plot functions"
   ]
  },
  {
   "cell_type": "code",
   "execution_count": null,
   "metadata": {
    "collapsed": false
   },
   "outputs": [],
   "source": [
    "def vec_plot(p):\n",
    "    '''Give an array `p` of probabilities, plots the Q-values direction vector field.'''\n",
    "    p_max = np.argmax(p, axis=2)\n",
    "    \n",
    "    # define arrow direction\n",
    "    U = p_max - 1\n",
    "    V = np.zeros((ngrid_pos, ngrid_speed))\n",
    "\n",
    "    plt.quiver(U, V, alpha=1, scale=1.8, units='xy')\n",
    "    plt.xlim(-1, 20)\n",
    "    plt.xticks(())\n",
    "    plt.ylim(-1, 20)\n",
    "    plt.yticks(())\n",
    "    plt.xlabel('position $x$')\n",
    "    plt.ylabel('speed $\\dot x$')\n",
    "    plt.title('Q-values direction vector field (arrows show the direction of applied force)')\n",
    "\n",
    "    plt.show()"
   ]
  },
  {
   "cell_type": "code",
   "execution_count": null,
   "metadata": {
    "collapsed": false
   },
   "outputs": [],
   "source": [
    "def plot3D(q):\n",
    "    '''Given q-values `q`, plots in 3D all possibles states.'''\n",
    "    fig = plt.figure()\n",
    "    ax = fig.add_subplot(111, projection='3d')\n",
    "    \n",
    "    # generate all parameters combination for states\n",
    "    x, y = np.meshgrid(x_pos, y_speed)\n",
    "    ax.plot_wireframe(x, y, q, color='grey')\n",
    "    ax.set_xlabel('position')\n",
    "    ax.set_ylabel('speed')\n",
    "    ax.set_zlabel('max q')\n",
    "    \n",
    "    plt.show()"
   ]
  },
  {
   "cell_type": "markdown",
   "metadata": {},
   "source": [
    "### Helper coordinates"
   ]
  },
  {
   "cell_type": "code",
   "execution_count": null,
   "metadata": {
    "collapsed": true
   },
   "outputs": [],
   "source": [
    "# grid discretisation\n",
    "ngrid_pos = 20\n",
    "ngrid_speed = 20"
   ]
  },
  {
   "cell_type": "code",
   "execution_count": null,
   "metadata": {
    "collapsed": true
   },
   "outputs": [],
   "source": [
    "# grid corners\n",
    "int_pos = -150, 30\n",
    "int_speed = -15, 15"
   ]
  },
  {
   "cell_type": "code",
   "execution_count": null,
   "metadata": {
    "collapsed": true
   },
   "outputs": [],
   "source": [
    "# prepare all parameters combination for states\n",
    "x_pos, center_dist_pos = np.linspace(int_pos[0], int_pos[1], ngrid_pos, retstep=True)\n",
    "y_speed, center_dist_speed = np.linspace(int_speed[0], int_speed[1], ngrid_speed, retstep=True)\n",
    "y_speed_t = y_speed.reshape(-1, 1)"
   ]
  },
  {
   "cell_type": "markdown",
   "metadata": {},
   "source": [
    "### Helper functions"
   ]
  },
  {
   "cell_type": "code",
   "execution_count": null,
   "metadata": {
    "collapsed": true
   },
   "outputs": [],
   "source": [
    "def activity(s):\n",
    "    '''Given a state `s`, returns local continuous activity response.'''\n",
    "    return np.exp(- ((x_pos - s[0]) / center_dist_pos) ** 2 - ((y_speed_t - s[1]) / center_dist_speed) ** 2).T"
   ]
  },
  {
   "cell_type": "code",
   "execution_count": null,
   "metadata": {
    "collapsed": true
   },
   "outputs": [],
   "source": [
    "def Q(s, a, w):\n",
    "    '''Given a state `s`, an action `a` and weights `w`, returns corresponding q-values.'''\n",
    "    return np.sum(w[:, :, a] * activity(s))"
   ]
  },
  {
   "cell_type": "code",
   "execution_count": null,
   "metadata": {
    "collapsed": false
   },
   "outputs": [],
   "source": [
    "def softmax(x, tau):\n",
    "    '''Given an array `x` and a temperature parameter `tau`, returns robust softmax applied on the array.'''\n",
    "    delta = (np.max(x) - np.min(x))\n",
    "    \n",
    "    # all zero mean 1/len(x) chance for each action\n",
    "    if np.isclose(delta, 0):\n",
    "        return np.ones_like(x) / len(x)\n",
    "    \n",
    "    # rescale to avoid overflow issues\n",
    "    xp = (np.array(x) - np.min(x)) / delta\n",
    "    \n",
    "    e_x = np.exp(xp / tau)\n",
    "    return e_x / e_x.sum()"
   ]
  },
  {
   "cell_type": "code",
   "execution_count": null,
   "metadata": {
    "collapsed": false
   },
   "outputs": [],
   "source": [
    "qs = np.array([0.3, 0.2, 0.1])\n",
    "x = np.logspace(-1, 3, 40)\n",
    "y = np.array(list(zip(*[softmax(qs, xi) for xi in x])))\n",
    "\n",
    "plt.xscale(\"log\")\n",
    "plt.xlabel(\"tau\")\n",
    "plt.ylabel(\"probability\")\n",
    "plt.plot(x,y[0])\n",
    "plt.plot(x,y[1])\n",
    "plt.plot(x,y[2])\n",
    "plt.show()"
   ]
  },
  {
   "cell_type": "code",
   "execution_count": null,
   "metadata": {
    "collapsed": false
   },
   "outputs": [],
   "source": [
    "tau_max = 5\n",
    "tau_min = 1e-1\n",
    "tau_steps = 100\n",
    "x = range(tau_steps)\n",
    "y = [tau_max * np.exp((1 / tau_steps) * np.log(tau_min / tau_max)) ** i for i in x]\n",
    "plt.plot(x,y)"
   ]
  },
  {
   "cell_type": "code",
   "execution_count": null,
   "metadata": {
    "collapsed": false,
    "scrolled": true
   },
   "outputs": [],
   "source": [
    "def sarsa(n_epi=100,\n",
    "          tau_max=1, # exploration/expoitation parameter\n",
    "          tau_min=1e-1,\n",
    "          expire=100,\n",
    "          gamma=0.95, \n",
    "          lmbda = 0.05, \n",
    "          eta = 0.01,\n",
    "          fill = 0,\n",
    "          show = False,\n",
    "          limit = 2000,\n",
    "          dt=0.01, \n",
    "          steps=100):\n",
    "    '''Given hyperparameters, run the sarsa algorithm on `n_epi` episode and returns weight, probabilities and latency history.'''\n",
    "    \n",
    "    # store latency and probabilities\n",
    "    probs = []\n",
    "    latencies = []\n",
    "\n",
    "    # decreasing exponential coeficient for tau\n",
    "    tau_coef = np.exp((1 / expire) * np.log(tau_min / tau_max))\n",
    "    tau = tau_max\n",
    "    \n",
    "    # initial random weights (at least connected)\n",
    "    #w = np.random.rand(ngrid_pos, ngrid_speed, 3) / 10. + 1\n",
    "    w = np.ones((ngrid_pos, ngrid_speed, 3)) * fill\n",
    "\n",
    "    i = 0\n",
    "    while i < n_epi:\n",
    "        print(\"------------------------\")\n",
    "        print(\"episode :\", i)\n",
    "        print(\"with tau :\", tau)\n",
    "\n",
    "        # null eligibility traces\n",
    "        e = np.zeros((ngrid_pos, ngrid_speed, 3))\n",
    "\n",
    "        # initial state\n",
    "        car.reset()\n",
    "        s0 = car.x, car.x_d\n",
    "\n",
    "        # initial random action\n",
    "        a0 = np.random.randint(3)\n",
    "\n",
    "        j = 0\n",
    "        while j < limit:\n",
    "            j += 1\n",
    "\n",
    "            # take action, simulate and retrieve new state\n",
    "            car.apply_force(a0 - 1)\n",
    "            car.simulate_timesteps(steps, dt)\n",
    "            s1 = car.x, car.x_d\n",
    "\n",
    "            # compute probabilities for each action and choose among them\n",
    "            p = softmax([Q(s1, a, w) for a in range(3)], tau)\n",
    "            a1 = np.random.choice(range(3), p=p)\n",
    "\n",
    "            # decrease eligibility traces and increase selected action\n",
    "            e *= gamma * lmbda\n",
    "            e[:, :, a0] += activity(s0)[:, :]\n",
    "\n",
    "            # update weights accordingly\n",
    "            # the factor j / 1000 has been added after discussion with TAs in order to increase convergence speed\n",
    "            delta = car.R + gamma * Q(s1, a1, w) - Q(s0, a0, w) - j / 1000\n",
    "            w += eta * delta * e\n",
    "\n",
    "            # propagate next action and state\n",
    "            a0 = a1\n",
    "            s0 = s1\n",
    "\n",
    "            if car.R > 0.0:\n",
    "                i += 1\n",
    "                \n",
    "                tau *= tau_coef\n",
    "        \n",
    "                prob = np.array([[softmax([Q((x, y), a, w) for a in range(3)], tau) for x in x_pos] for y in y_speed])\n",
    "                max_action = -np.max([[[Q((x, y), a, w) for a in range(3)] for x in x_pos] for y in y_speed], axis=2)\n",
    "\n",
    "                if (show):\n",
    "                    vec_plot(prob)\n",
    "                    plot3D(max_action)\n",
    "                    plt.show()\n",
    "\n",
    "                probs.append(prob)\n",
    "                latencies.append(car.t)\n",
    "                \n",
    "                print('reward obtained at t =', car.t)\n",
    "                break\n",
    "                \n",
    "            # tau update (minimum value to prevent overflow)\n",
    "            #tau = max(tau * tau_coef, tau_min)\n",
    "            #print(\"new tau\", tau)\n",
    "        \n",
    "    return w, probs, latencies"
   ]
  },
  {
   "cell_type": "code",
   "execution_count": null,
   "metadata": {
    "collapsed": false,
    "scrolled": true
   },
   "outputs": [],
   "source": [
    "w, probs, latencies = sarsa(show=True)"
   ]
  },
  {
   "cell_type": "code",
   "execution_count": null,
   "metadata": {
    "collapsed": true
   },
   "outputs": [],
   "source": [
    "import os"
   ]
  },
  {
   "cell_type": "code",
   "execution_count": null,
   "metadata": {
    "collapsed": false
   },
   "outputs": [],
   "source": [
    "origin_path = \"../grid_search/\"\n",
    "dfs = []\n",
    "\n",
    "for subd, dirs, files in os.walk(origin_path):\n",
    "    if len(dirs) > 0:\n",
    "        continue\n",
    "        \n",
    "    folder = subd + \"/\"\n",
    "    id_ = int(subd[-1])\n",
    "    \n",
    "    print(\"id :\",id_)  \n",
    "    \n",
    "    links = []\n",
    "    \n",
    "    for file in files:\n",
    "        if file == \"log.txt\":\n",
    "            continue\n",
    "        \n",
    "        file_arr = file.split(\"_\")\n",
    "        \n",
    "        if len(file_arr) > 8:\n",
    "            tau = \"reduce\"\n",
    "        else:\n",
    "            tau = file_arr[3]\n",
    "        \n",
    "        lmbda =  file_arr[5]\n",
    "        fill = file_arr[7]\n",
    "        \n",
    "        links.append({\n",
    "            \"tau\": tau,\n",
    "            \"lmbda\": float(lmbda),\n",
    "            \"fill\": int(fill),\n",
    "            \"link\": folder + file\n",
    "        })\n",
    "    \n",
    "    dfs.append(links)\n",
    "    "
   ]
  },
  {
   "cell_type": "code",
   "execution_count": null,
   "metadata": {
    "collapsed": false
   },
   "outputs": [],
   "source": [
    "def search_run(obj):\n",
    "    return  (obj[\"fill\"] == search[\"fill\"] and \n",
    "             obj[\"lmbda\"] == search[\"lmbda\"] and \n",
    "             obj[\"tau\"] == search[\"tau\"])"
   ]
  },
  {
   "cell_type": "code",
   "execution_count": null,
   "metadata": {
    "collapsed": true
   },
   "outputs": [],
   "source": [
    "# imported from https://tonysyu.github.io/plotting-error-bars.html#.WIi79RiZOsw\n",
    "def errorfill(x, y, yerr, color=None, alpha_fill=0.3, ax=None):\n",
    "    ax = ax if ax is not None else plt.gca()\n",
    "    ax.set_xlabel(\"episodes\")\n",
    "    ax.set_ylabel(\"iterations to goal\")\n",
    "    if color is None:\n",
    "        color = ax._get_lines.color_cycle.next()\n",
    "    if np.isscalar(yerr) or len(yerr) == len(y):\n",
    "        ymin = y - yerr\n",
    "        ymax = y + yerr\n",
    "    elif len(yerr) == 2:\n",
    "        ymin, ymax = yerr\n",
    "    ax.plot(x, y, color=color)\n",
    "    ax.fill_between(x, ymax, ymin, color=color, alpha=alpha_fill)"
   ]
  },
  {
   "cell_type": "code",
   "execution_count": null,
   "metadata": {
    "collapsed": true
   },
   "outputs": [],
   "source": [
    "def plot_latencies(search_obj, a=None,smooth=10):\n",
    "    if a is None:\n",
    "        search = search_obj\n",
    "        latencies = np.array(\n",
    "            [\n",
    "                pd.read_pickle(\n",
    "                    list(filter(search_run, sims))[0][\"link\"]\n",
    "                ).latencies for sims in dfs])\n",
    "    else:\n",
    "        latencies = np.array(a)\n",
    "    lat_m = latencies.mean(axis=0)\n",
    "    var = np.sqrt(latencies.var(axis=0))\n",
    "    \n",
    "    print(\"mean :\", lat_m.mean())\n",
    "    print(\"mean last 60 :\", lat_m[60:].mean())\n",
    "    print(\"min :\", latencies.min())\n",
    "    \n",
    "    plt.figure(figsize=(10, 8), dpi=80)\n",
    "    plt.plot(100*[lat_m[60:].mean()], \"red\")\n",
    "    errorfill(range(100), lat_m, var, color=\"gray\")\n",
    "    plt.show()"
   ]
  },
  {
   "cell_type": "code",
   "execution_count": null,
   "metadata": {
    "collapsed": false
   },
   "outputs": [],
   "source": [
    "a_ = []\n",
    "for i in range(8):\n",
    "    w, probs, latencies = sarsa(fill=0, lmbda=0.05, tau_max=1, tau_min=1)\n",
    "    a_.append(latencies)"
   ]
  },
  {
   "cell_type": "code",
   "execution_count": null,
   "metadata": {
    "collapsed": false,
    "scrolled": true
   },
   "outputs": [],
   "source": [
    "a2 = []\n",
    "for i in range(8):\n",
    "    w, probs, latencies = sarsa(fill=0, lmbda=0.05, tau_max=1, tau_min=0.1)\n",
    "    a2.append(latencies)"
   ]
  },
  {
   "cell_type": "code",
   "execution_count": null,
   "metadata": {
    "collapsed": false
   },
   "outputs": [],
   "source": [
    "search = {\"fill\": 0, \"lmbda\": 0.05, \"tau\": '0.1'}\n",
    "   \n",
    "res = filter(search_run, dfs[0])\n",
    "\n",
    "print(list(res))\n",
    "\n",
    "plot_latencies(search, a=a2)"
   ]
  },
  {
   "cell_type": "code",
   "execution_count": null,
   "metadata": {
    "collapsed": false
   },
   "outputs": [],
   "source": [
    "w, probs, latencies = sarsa(fill=0, lmbda=0.95, tau_max=10, tau_min=0.1, show=True)"
   ]
  },
  {
   "cell_type": "code",
   "execution_count": null,
   "metadata": {
    "collapsed": false,
    "scrolled": true
   },
   "outputs": [],
   "source": [
    "w, probs, latencies = sarsa(fill=1, lmbda=0.95, tau_max=10, tau_min=0.1, show=False)"
   ]
  },
  {
   "cell_type": "code",
   "execution_count": null,
   "metadata": {
    "collapsed": false
   },
   "outputs": [],
   "source": [
    "plt.plot(latencies)\n",
    "plt.show()"
   ]
  },
  {
   "cell_type": "code",
   "execution_count": null,
   "metadata": {
    "collapsed": false
   },
   "outputs": [],
   "source": [
    "lats = []\n",
    "\n",
    "for i in range(20):\n",
    "    w, probs, latencies = sarsa(fill=0, lmbda=0.05, tau_max=10, tau_min=0.1, show=False)\n",
    "    lats.append(latencies)"
   ]
  },
  {
   "cell_type": "code",
   "execution_count": null,
   "metadata": {
    "collapsed": false
   },
   "outputs": [],
   "source": [
    "lats = np.array(lats)\n",
    "\n",
    "plt.figure(figsize=(10, 8), dpi=80)\n",
    "\n",
    "for lat in lats:\n",
    "    plt.plot(lat, \"b\", alpha=0.2)\n",
    "\n",
    "lat_m = lats.mean(axis=0)\n",
    "var = np.sqrt(lats.var(axis=0))\n",
    "\n",
    "plt.plot(100*[lat_m[60:].mean()], \"red\", alpha=1)\n",
    "errorfill(range(100), lat_m, var, color=\"black\")\n",
    "    \n",
    "plt.show()"
   ]
  },
  {
   "cell_type": "code",
   "execution_count": null,
   "metadata": {
    "collapsed": false
   },
   "outputs": [],
   "source": [
    "i = 0\n",
    "latencies = np.array([pd.read_pickle(sims[i][\"link\"]).latencies for sims in dfs])"
   ]
  },
  {
   "cell_type": "code",
   "execution_count": null,
   "metadata": {
    "collapsed": false
   },
   "outputs": [],
   "source": [
    "lat_m = latencies.mean(axis=0)\n",
    "var = np.sqrt(latencies.var(axis=0))"
   ]
  },
  {
   "cell_type": "code",
   "execution_count": null,
   "metadata": {
    "collapsed": false
   },
   "outputs": [],
   "source": [
    "# plot latency evolution and moving avergage of it\n",
    "smooth = 10\n",
    "plt.plot(lat_m, \"b\")\n",
    "plt.plot(lat_m - var, \"r+\")\n",
    "plt.plot(lat_m + var, \"r+\")\n",
    "plt.plot(np.convolve(np.ones(smooth) / smooth, lat_m, mode='same'))"
   ]
  }
 ],
 "metadata": {
  "kernelspec": {
   "display_name": "Python 3",
   "language": "python",
   "name": "python3"
  },
  "language_info": {
   "codemirror_mode": {
    "name": "ipython",
    "version": 3
   },
   "file_extension": ".py",
   "mimetype": "text/x-python",
   "name": "python",
   "nbconvert_exporter": "python",
   "pygments_lexer": "ipython3",
   "version": "3.6.0"
  }
 },
 "nbformat": 4,
 "nbformat_minor": 2
}
