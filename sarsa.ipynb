{
 "cells": [
  {
   "cell_type": "code",
   "execution_count": null,
   "metadata": {
    "collapsed": false
   },
   "outputs": [],
   "source": [
    "%matplotlib inline"
   ]
  },
  {
   "cell_type": "code",
   "execution_count": null,
   "metadata": {
    "collapsed": true
   },
   "outputs": [],
   "source": [
    "import sys\n",
    "import numpy as np\n",
    "import matplotlib.pyplot as plt\n",
    "from mpl_toolkits.mplot3d import Axes3D"
   ]
  },
  {
   "cell_type": "code",
   "execution_count": null,
   "metadata": {
    "collapsed": true
   },
   "outputs": [],
   "source": [
    "from mountaincar import MountainCar, MountainCarViewer"
   ]
  },
  {
   "cell_type": "code",
   "execution_count": null,
   "metadata": {
    "collapsed": false
   },
   "outputs": [],
   "source": [
    "np.seterr(over='raise')"
   ]
  },
  {
   "cell_type": "code",
   "execution_count": null,
   "metadata": {
    "collapsed": true
   },
   "outputs": [],
   "source": [
    "car = MountainCar()"
   ]
  },
  {
   "cell_type": "markdown",
   "metadata": {},
   "source": [
    "### Plot functions"
   ]
  },
  {
   "cell_type": "code",
   "execution_count": null,
   "metadata": {
    "collapsed": false
   },
   "outputs": [],
   "source": [
    "def vec_plot(p):\n",
    "    p_max = np.argmax(p, axis=2)\n",
    "    U = (p_max == 0) * 1 + (p_max == 1) * -1\n",
    "    V = np.zeros((ngrid_pos, ngrid_speed))\n",
    "    \n",
    "    plt.quiver(U, V, alpha=1, scale=1.8, units='xy')\n",
    "\n",
    "    plt.xlim(-1, 20)\n",
    "    plt.xticks(())\n",
    "    plt.ylim(-1, 20)\n",
    "    plt.yticks(())\n",
    "    \n",
    "    plt.xlabel('position $x$')\n",
    "    plt.ylabel('speed $\\dot x$')\n",
    "    plt.title('Q-values direction vector field (arrows show the direction of applied force)')\n",
    "\n",
    "    plt.show()"
   ]
  },
  {
   "cell_type": "code",
   "execution_count": null,
   "metadata": {
    "collapsed": false
   },
   "outputs": [],
   "source": [
    "def plot3D(q):\n",
    "    fig = plt.figure()\n",
    "    ax = fig.add_subplot(111, projection='3d')\n",
    "    \n",
    "    x, y = np.meshgrid(x_pos, y_speed)\n",
    "    ax.plot_wireframe(x, y, q, color='grey')\n",
    "    ax.set_xlabel('position')\n",
    "    ax.set_ylabel('speed')\n",
    "    ax.set_zlabel('max q')\n",
    "    \n",
    "    plt.show()"
   ]
  },
  {
   "cell_type": "markdown",
   "metadata": {},
   "source": [
    "### Helper coordinates"
   ]
  },
  {
   "cell_type": "code",
   "execution_count": null,
   "metadata": {
    "collapsed": true
   },
   "outputs": [],
   "source": [
    "# grid discretisation\n",
    "ngrid_pos = 20\n",
    "ngrid_speed = 20"
   ]
  },
  {
   "cell_type": "code",
   "execution_count": null,
   "metadata": {
    "collapsed": true
   },
   "outputs": [],
   "source": [
    "# grid corners\n",
    "int_pos = -150, 30\n",
    "int_speed = -15, 15"
   ]
  },
  {
   "cell_type": "code",
   "execution_count": null,
   "metadata": {
    "collapsed": true
   },
   "outputs": [],
   "source": [
    "x_pos, center_dist_pos = np.linspace(int_pos[0], int_pos[1], ngrid_pos, retstep=True)\n",
    "y_speed, center_dist_speed = np.linspace(int_speed[0], int_speed[1], ngrid_speed, retstep=True)\n",
    "y_speed_t = y_speed.reshape(-1, 1)"
   ]
  },
  {
   "cell_type": "markdown",
   "metadata": {},
   "source": [
    "### Helper functions"
   ]
  },
  {
   "cell_type": "code",
   "execution_count": null,
   "metadata": {
    "collapsed": true
   },
   "outputs": [],
   "source": [
    "def activity(s):\n",
    "    return np.exp(- ((x_pos - s[0]) / center_dist_pos) ** 2 - ((y_speed_t - s[1]) / center_dist_speed) ** 2).T"
   ]
  },
  {
   "cell_type": "code",
   "execution_count": null,
   "metadata": {
    "collapsed": true
   },
   "outputs": [],
   "source": [
    "def Q(s, a, w):\n",
    "    return np.sum(w[:, :, a] * activity(s))"
   ]
  },
  {
   "cell_type": "code",
   "execution_count": null,
   "metadata": {
    "collapsed": false
   },
   "outputs": [],
   "source": [
    "# This is a robust solution so that we have a meaningful value for tau.\n",
    "def softmax(x, tau):\n",
    "    \n",
    "    # all zero mean 1/len(x) chance for each action\n",
    "    if np.count_nonzero(x) == 0:\n",
    "        return np.ones_like(x) / len(x)\n",
    "    \n",
    "    # rescale to avoid overflow issues\n",
    "    xp = (np.array(x) - np.min(x)) / (np.max(x) - np.min(x))\n",
    "    \n",
    "    e_x = np.exp(xp / tau)\n",
    "    return e_x / e_x.sum()"
   ]
  },
  {
   "cell_type": "code",
   "execution_count": null,
   "metadata": {
    "collapsed": false
   },
   "outputs": [],
   "source": [
    "qs = np.array([0.3, 0.2, 0.1])\n",
    "x = np.logspace(-1, 3, 40)\n",
    "y = np.array(list(zip(*[softmax(qs, xi) for xi in x])))\n",
    "\n",
    "plt.xscale(\"log\")\n",
    "plt.plot(x,y[0])\n",
    "plt.plot(x,y[1])\n",
    "plt.plot(x,y[2])\n",
    "plt.show()"
   ]
  },
  {
   "cell_type": "code",
   "execution_count": null,
   "metadata": {
    "collapsed": false
   },
   "outputs": [],
   "source": [
    "tau_max = 1\n",
    "tau_min = 1e-1\n",
    "tau_steps = 100\n",
    "x = range(tau_steps)\n",
    "y = [tau_max * np.exp((1 / tau_steps) * np.log(tau_min / tau_max))**i for i in x]"
   ]
  },
  {
   "cell_type": "code",
   "execution_count": null,
   "metadata": {
    "collapsed": false
   },
   "outputs": [],
   "source": [
    "plt.plot(x,y)"
   ]
  },
  {
   "cell_type": "code",
   "execution_count": null,
   "metadata": {
    "collapsed": false,
    "scrolled": true
   },
   "outputs": [],
   "source": [
    "def sarsa(n_epi = 500,\n",
    "          tau_max=1, # exploration/expoitation parameter\n",
    "          tau_min=1e-2,\n",
    "          tau_steps=500,\n",
    "          gamma=0.95, \n",
    "          lmbda = 0.8, \n",
    "          eta = 0.01, \n",
    "          dt=0.01, \n",
    "          steps=100):\n",
    "    \n",
    "    probs = []\n",
    "    times = []\n",
    "\n",
    "    # decreasing exp coeficient for tau\n",
    "    tau_coef = np.exp((1 / tau_steps) * np.log(tau_min / tau_max))\n",
    "    tau = tau_max\n",
    "    \n",
    "    # initial random weights\n",
    "    w = np.zeros((ngrid_pos, ngrid_speed, 3))\n",
    "\n",
    "    i = 0\n",
    "    for epi in np.arange(n_epi):\n",
    "        print(\"episode :\", epi)\n",
    "\n",
    "        # null eligibility traces\n",
    "        e = np.zeros((ngrid_pos, ngrid_speed, 3))\n",
    "\n",
    "        # initial state\n",
    "        car.reset()\n",
    "        s0 = car.x, car.x_d\n",
    "\n",
    "        # initial random action\n",
    "        a0 = np.random.randint(3)\n",
    "\n",
    "        j = 0\n",
    "        while j < 2000:\n",
    "            i += 1\n",
    "            j += 1\n",
    "\n",
    "            # take action between -1, 0 and 1\n",
    "            car.apply_force(a0 - 1)\n",
    "            car.simulate_timesteps(steps, dt)\n",
    "\n",
    "            # retrieve current state and closest discret state\n",
    "            s1 = car.x, car.x_d\n",
    "\n",
    "            # compute proba for each action and choose among them\n",
    "            p = softmax([Q(s1, a, w) for a in range(3)], tau)\n",
    "            a1 = np.random.choice(range(3), p=p)\n",
    "\n",
    "            # decrease eligibility traces and increase selection action\n",
    "            e *= gamma * lmbda\n",
    "            e[:, :, a0] += activity(s0)[:, :]\n",
    "\n",
    "            # update weights\n",
    "            delta = car.R + gamma * Q(s1, a1, w) - Q(s0, a0, w)\n",
    "            w += eta * delta * e\n",
    "\n",
    "            # propagate next action and state\n",
    "            a0 = a1\n",
    "            s0 = s1\n",
    "\n",
    "            if car.R > 0.0:\n",
    "                print('reward obtained at t =', car.t)\n",
    "                break\n",
    "                \n",
    "        #We diminish tau only if we obtained the goal\n",
    "        if j != 2000:\n",
    "            #Tau update (minimum value to prevent overflow)\n",
    "            tau = max(tau*tau_coef, tau_min)\n",
    "            print(\"new tau\", tau)\n",
    "\n",
    "        prob = np.array([[softmax([Q((x, y), a, w) for a in range(3)], tau) for x in x_pos] for y in y_speed])\n",
    "        max_action = np.max([[[Q((x, y), a, w) for a in range(3)] for x in x_pos] for y in y_speed], axis=2)\n",
    "\n",
    "        #vec_plot(prob)\n",
    "        #plot3D(max_action)\n",
    "        #plt.show()\n",
    "\n",
    "        probs.append(prob)\n",
    "        times.append(car.t)\n",
    "    return w, probs, times"
   ]
  },
  {
   "cell_type": "code",
   "execution_count": null,
   "metadata": {
    "collapsed": false,
    "scrolled": true
   },
   "outputs": [],
   "source": [
    "w, probs, times = sarsa()"
   ]
  },
  {
   "cell_type": "code",
   "execution_count": null,
   "metadata": {
    "collapsed": false
   },
   "outputs": [],
   "source": [
    "smooth = 10\n",
    "plt.plot(times)\n",
    "plt.plot(np.convolve(np.ones(smooth) / smooth, times, mode='same'))"
   ]
  },
  {
   "cell_type": "code",
   "execution_count": null,
   "metadata": {
    "collapsed": false
   },
   "outputs": [],
   "source": [
    "vec_plot(probs[100])"
   ]
  },
  {
   "cell_type": "code",
   "execution_count": null,
   "metadata": {
    "collapsed": true
   },
   "outputs": [],
   "source": []
  }
 ],
 "metadata": {
  "kernelspec": {
   "display_name": "Python 3",
   "language": "python",
   "name": "python3"
  },
  "language_info": {
   "codemirror_mode": {
    "name": "ipython",
    "version": 3
   },
   "file_extension": ".py",
   "mimetype": "text/x-python",
   "name": "python",
   "nbconvert_exporter": "python",
   "pygments_lexer": "ipython3",
   "version": "3.6.0"
  }
 },
 "nbformat": 4,
 "nbformat_minor": 2
}
