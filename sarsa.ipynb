{
 "cells": [
  {
   "cell_type": "code",
   "execution_count": null,
   "metadata": {
    "collapsed": true
   },
   "outputs": [],
   "source": [
    "%matplotlib notebook"
   ]
  },
  {
   "cell_type": "code",
   "execution_count": null,
   "metadata": {
    "collapsed": true
   },
   "outputs": [],
   "source": [
    "import numpy as np\n",
    "import matplotlib.pyplot as plt"
   ]
  },
  {
   "cell_type": "code",
   "execution_count": null,
   "metadata": {
    "collapsed": true
   },
   "outputs": [],
   "source": [
    "from mountaincar import MountainCar, MountainCarViewer"
   ]
  },
  {
   "cell_type": "code",
   "execution_count": null,
   "metadata": {
    "collapsed": true
   },
   "outputs": [],
   "source": []
  },
  {
   "cell_type": "code",
   "execution_count": null,
   "metadata": {
    "collapsed": true
   },
   "outputs": [],
   "source": [
    "car = MountainCar()"
   ]
  },
  {
   "cell_type": "code",
   "execution_count": null,
   "metadata": {
    "collapsed": true
   },
   "outputs": [],
   "source": [
    "parameter1 = 3.0\n",
    "n_steps = 200"
   ]
  },
  {
   "cell_type": "code",
   "execution_count": null,
   "metadata": {
    "collapsed": false
   },
   "outputs": [],
   "source": [
    "lmbda = 0.8\n",
    "gamma = 0.95\n",
    "eta = 0.01\n",
    "dt = 0.01\n",
    "n = 100\n",
    "tau = 1\n",
    "steps = 100\n",
    "width = 20\n",
    "height = 20\n",
    "epsilon = 0.2"
   ]
  },
  {
   "cell_type": "code",
   "execution_count": null,
   "metadata": {
    "collapsed": true
   },
   "outputs": [],
   "source": [
    "xx = np.linspace(-150, 30, width)\n",
    "yy = np.linspace(-15, 15, height)\n",
    "yy_t = np.array([yy]).T"
   ]
  },
  {
   "cell_type": "code",
   "execution_count": null,
   "metadata": {
    "collapsed": true
   },
   "outputs": [],
   "source": [
    "def Q(s, a, w, s_x = 1, s_y = 1):\n",
    "    return np.sum(w[:, :, a] * np.exp(- ((xx - s[0]) / s_x) ** 2 - ((yy_t - s[1]) / s_y) ** 2))"
   ]
  },
  {
   "cell_type": "code",
   "execution_count": null,
   "metadata": {
    "collapsed": false
   },
   "outputs": [],
   "source": [
    "def softmax(x, t=1):\n",
    "    e_x = np.exp(x / t)\n",
    "    return e_x / e_x.sum()"
   ]
  },
  {
   "cell_type": "code",
   "execution_count": null,
   "metadata": {
    "collapsed": true
   },
   "outputs": [],
   "source": [
    "def toClosest(s):\n",
    "    return np.abs(xx - s[0]).argmin(), np.abs(yy - s[1]).argmin()"
   ]
  },
  {
   "cell_type": "code",
   "execution_count": null,
   "metadata": {
    "collapsed": false
   },
   "outputs": [],
   "source": [
    "# random q values\n",
    "w = np.random.rand(width, height, 3)\n",
    "\n",
    "for epi in np.arange(1):\n",
    "    \n",
    "    # initial state\n",
    "    car.reset()\n",
    "    s = car.x, car.x_d\n",
    "    # initial action\n",
    "    a = np.random.randint(3)\n",
    "    # no eligibility traces\n",
    "    e = np.ones((width, height, 3))\n",
    "    \n",
    "    mv = MountainCarViewer(car)\n",
    "    mv.create_figure(5000, 5000)\n",
    "        \n",
    "    for trial in np.arange(5000):        \n",
    "        car.apply_force(a - 1)\n",
    "        car.simulate_timesteps(steps, dt)\n",
    "        \n",
    "        sp = car.x, car.x_d\n",
    "        spd = toClosest(sp)\n",
    "\n",
    "        if np.random.rand() < epsilon:\n",
    "            ap = np.argmax(softmax(w[spd[0], spd[1], :]))\n",
    "        else:\n",
    "            ap = np.random.randint(3)\n",
    "        \n",
    "        delta = car.R + gamma * Q(sp, ap, w) - Q(s, a, w)\n",
    "        \n",
    "        e[spd[0], spd[1], a] += 1\n",
    "        \n",
    "        w += eta * delta * e\n",
    "        e *= gamma * lmbda\n",
    "            \n",
    "        a = ap\n",
    "        s = sp\n",
    "        \n",
    "        mv.update_figure()\n",
    "        plt.draw()  \n",
    "        \n",
    "        if car.R > 0.0:\n",
    "            print(\"\\rreward obtained at t = \", car.t)\n",
    "            break\n",
    "        \n"
   ]
  },
  {
   "cell_type": "code",
   "execution_count": null,
   "metadata": {
    "collapsed": false
   },
   "outputs": [],
   "source": []
  },
  {
   "cell_type": "code",
   "execution_count": null,
   "metadata": {
    "collapsed": true
   },
   "outputs": [],
   "source": []
  }
 ],
 "metadata": {
  "kernelspec": {
   "display_name": "Python 3",
   "language": "python",
   "name": "python3"
  },
  "language_info": {
   "codemirror_mode": {
    "name": "ipython",
    "version": 3
   },
   "file_extension": ".py",
   "mimetype": "text/x-python",
   "name": "python",
   "nbconvert_exporter": "python",
   "pygments_lexer": "ipython3",
   "version": "3.6.0"
  }
 },
 "nbformat": 4,
 "nbformat_minor": 2
}
