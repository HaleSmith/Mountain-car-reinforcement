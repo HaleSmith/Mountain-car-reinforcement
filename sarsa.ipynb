{
 "cells": [
  {
   "cell_type": "code",
   "execution_count": null,
   "metadata": {
    "collapsed": true
   },
   "outputs": [],
   "source": [
    "%matplotlib inline"
   ]
  },
  {
   "cell_type": "code",
   "execution_count": null,
   "metadata": {
    "collapsed": true
   },
   "outputs": [],
   "source": [
    "import numpy as np\n",
    "import matplotlib.pyplot as plt"
   ]
  },
  {
   "cell_type": "code",
   "execution_count": null,
   "metadata": {
    "collapsed": true
   },
   "outputs": [],
   "source": [
    "from mountaincar import MountainCar, MountainCarViewer"
   ]
  },
  {
   "cell_type": "code",
   "execution_count": null,
   "metadata": {
    "collapsed": true
   },
   "outputs": [],
   "source": []
  },
  {
   "cell_type": "code",
   "execution_count": null,
   "metadata": {
    "collapsed": true
   },
   "outputs": [],
   "source": [
    "car = MountainCar()"
   ]
  },
  {
   "cell_type": "code",
   "execution_count": null,
   "metadata": {
    "collapsed": true
   },
   "outputs": [],
   "source": [
    "parameter1 = 3.0\n",
    "n_steps = 200"
   ]
  },
  {
   "cell_type": "code",
   "execution_count": null,
   "metadata": {
    "collapsed": false
   },
   "outputs": [],
   "source": [
    "lmbda = 0.8\n",
    "gamma = 0.95\n",
    "eta = 0.001\n",
    "dt = 0.01\n",
    "n = 100\n",
    "tau = 1\n",
    "w = 20\n",
    "h = 20"
   ]
  },
  {
   "cell_type": "code",
   "execution_count": null,
   "metadata": {
    "collapsed": false
   },
   "outputs": [],
   "source": [
    "# random q values for the begining\n",
    "q = np.random.rand(3)\n",
    "s = np.ones((w, h, 3))\n",
    "\n",
    "for epi in np.arange(10):\n",
    "    car.reset()\n",
    "    \n",
    "    # choose an initial action\n",
    "    a = np.random.randint(3)\n",
    "    # start with no eligibility traces\n",
    "    e = np.ones((x, xp, 3))\n",
    "    \n",
    "    for step in np.arange(1. / dt):\n",
    "        print('{} at {}'.format(car.x, car.x_d))\n",
    "           \n",
    "        r = activity(car.x, car.x_d)\n",
    "        \n",
    "        new_a = np.argmax(softmax(q))\n",
    "        car.apply_force(a_next - 1)\n",
    "        \n",
    "        new_r = activity(car.x, car.x_d)\n",
    "        \n",
    "        delta = gamma * new_r - r\n",
    "        if car.x > 0:\n",
    "            delta += 1\n",
    "            \n",
    "        e[np.round(car.x / 30.), np.round(car.x_d / 1.5), a] += 1\n",
    "        \n",
    "        q += eta * delta * e[np.round(car.x / 30.), np.round(car.x_d / 1.5), a]\n",
    "        e *= gamma * lmbda\n",
    "            \n",
    "        a = new_a"
   ]
  },
  {
   "cell_type": "code",
   "execution_count": null,
   "metadata": {
    "collapsed": false
   },
   "outputs": [],
   "source": [
    "def activity(x, y, s_x = 30, s_y = 1.5):\n",
    "    #weight\n",
    "    xx, yy = np.meshgrid(range(w), range(h), sparse=True)\n",
    "    return np.sum(np.exp(- ((xx - x) * 9 - 150) ** 2 / s_x ** 2  - ((yy - y) * 1.5 - 15) ** 2 / s_y ** 2))"
   ]
  },
  {
   "cell_type": "code",
   "execution_count": null,
   "metadata": {
    "collapsed": true
   },
   "outputs": [],
   "source": [
    "def softmax(q)\n",
    "    e_x = np.exp(q / tau)\n",
    "    return e_x / e_x.sum()"
   ]
  },
  {
   "cell_type": "code",
   "execution_count": null,
   "metadata": {
    "collapsed": false
   },
   "outputs": [],
   "source": []
  },
  {
   "cell_type": "code",
   "execution_count": null,
   "metadata": {
    "collapsed": false
   },
   "outputs": [],
   "source": [
    "mv = MountainCarViewer(car)\n",
    "mv.create_figure(n_steps, n_steps)\n",
    "plt.draw()            \n",
    "\n",
    "# make sure the mountain-car is reset\n",
    "car.reset()\n",
    "\n",
    "for n in range(n_steps):\n",
    "    if n % 20 == 0:\n",
    "        print('t =', mountain_car.t)\n",
    "\n",
    "    # choose a random action\n",
    "    car.apply_force(np.random.randint(3) - 1)\n",
    "    # simulate the timestep\n",
    "    car.simulate_timesteps(100, 0.01)\n",
    "\n",
    "    # update the visualization\n",
    "    mv.update_figure()\n",
    "    plt.draw()            \n",
    "\n",
    "    # check for rewards\n",
    "    if car.R > 0.0:\n",
    "        print(\"\\rreward obtained at t = \", mountain_car.t)\n",
    "        break\n",
    "\n",
    "plt.show()            "
   ]
  },
  {
   "cell_type": "code",
   "execution_count": null,
   "metadata": {
    "collapsed": false
   },
   "outputs": [],
   "source": [
    "mv._plot_energy_landscape()"
   ]
  },
  {
   "cell_type": "code",
   "execution_count": null,
   "metadata": {
    "collapsed": false
   },
   "outputs": [],
   "source": []
  },
  {
   "cell_type": "code",
   "execution_count": null,
   "metadata": {
    "collapsed": false
   },
   "outputs": [],
   "source": []
  },
  {
   "cell_type": "code",
   "execution_count": null,
   "metadata": {
    "collapsed": false
   },
   "outputs": [],
   "source": []
  },
  {
   "cell_type": "code",
   "execution_count": null,
   "metadata": {
    "collapsed": false
   },
   "outputs": [],
   "source": []
  },
  {
   "cell_type": "code",
   "execution_count": null,
   "metadata": {
    "collapsed": true
   },
   "outputs": [],
   "source": []
  }
 ],
 "metadata": {
  "kernelspec": {
   "display_name": "Python 3",
   "language": "python",
   "name": "python3"
  },
  "language_info": {
   "codemirror_mode": {
    "name": "ipython",
    "version": 3
   },
   "file_extension": ".py",
   "mimetype": "text/x-python",
   "name": "python",
   "nbconvert_exporter": "python",
   "pygments_lexer": "ipython3",
   "version": "3.6.0"
  }
 },
 "nbformat": 4,
 "nbformat_minor": 2
}
