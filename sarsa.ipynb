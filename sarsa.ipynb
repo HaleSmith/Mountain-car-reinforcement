{
 "cells": [
  {
   "cell_type": "code",
   "execution_count": null,
   "metadata": {
    "collapsed": false
   },
   "outputs": [],
   "source": [
    "%matplotlib notebook"
   ]
  },
  {
   "cell_type": "code",
   "execution_count": null,
   "metadata": {
    "collapsed": true
   },
   "outputs": [],
   "source": [
    "import numpy as np\n",
    "import matplotlib.pyplot as plt"
   ]
  },
  {
   "cell_type": "code",
   "execution_count": null,
   "metadata": {
    "collapsed": true
   },
   "outputs": [],
   "source": [
    "from mountaincar import MountainCar, MountainCarViewer"
   ]
  },
  {
   "cell_type": "code",
   "execution_count": null,
   "metadata": {
    "collapsed": true
   },
   "outputs": [],
   "source": [
    "car = MountainCar()"
   ]
  },
  {
   "cell_type": "markdown",
   "metadata": {},
   "source": [
    "### Parameters"
   ]
  },
  {
   "cell_type": "code",
   "execution_count": null,
   "metadata": {
    "collapsed": true
   },
   "outputs": [],
   "source": [
    "ngrid_pos = 20\n",
    "ngrid_speed = 20"
   ]
  },
  {
   "cell_type": "code",
   "execution_count": null,
   "metadata": {
    "collapsed": true
   },
   "outputs": [],
   "source": [
    "int_pos = -150, 30\n",
    "int_speed = -15, 15"
   ]
  },
  {
   "cell_type": "code",
   "execution_count": null,
   "metadata": {
    "collapsed": false
   },
   "outputs": [],
   "source": [
    "parameter1 = 3.0\n",
    "n_steps = 200\n",
    "lmbda = 0.1\n",
    "gamma = 0.95\n",
    "eta = 0.9\n",
    "dt = 0.01\n",
    "n = 100\n",
    "tau = 1\n",
    "steps = 100\n",
    "epsilon = 0.2"
   ]
  },
  {
   "cell_type": "markdown",
   "metadata": {},
   "source": [
    "### Initialisation"
   ]
  },
  {
   "cell_type": "code",
   "execution_count": null,
   "metadata": {
    "collapsed": false
   },
   "outputs": [],
   "source": [
    "center_dist_pos = (int_pos[1] - int_pos[0]) / ngrid_pos\n",
    "center_dist_speed = (int_speed[1] - int_speed[0]) / ngrid_speed"
   ]
  },
  {
   "cell_type": "code",
   "execution_count": null,
   "metadata": {
    "collapsed": true
   },
   "outputs": [],
   "source": [
    "x_pos = np.linspace(int_pos[0], int_pos[1], ngrid_pos)\n",
    "y_speed = np.linspace(int_speed[0], int_speed[1], ngrid_speed)\n",
    "y_speed_t = np.array([y_speed]).T # yy.T ?? try it"
   ]
  },
  {
   "cell_type": "markdown",
   "metadata": {},
   "source": [
    "### Helper functions"
   ]
  },
  {
   "cell_type": "code",
   "execution_count": null,
   "metadata": {
    "collapsed": true
   },
   "outputs": [],
   "source": [
    "def reward_activity(s, s_x, s_y):\n",
    "    return np.exp(- ((x_pos - s[0]) / s_x) ** 2 - ((y_speed_t - s[1]) / s_y) ** 2)"
   ]
  },
  {
   "cell_type": "code",
   "execution_count": null,
   "metadata": {
    "collapsed": true
   },
   "outputs": [],
   "source": [
    "def Q(s, a, w, s_x=center_dist_pos, s_y=center_dist_speed):\n",
    "    return np.sum(w[:, :, a] * reward_activity(s, s_x, s_y))"
   ]
  },
  {
   "cell_type": "code",
   "execution_count": null,
   "metadata": {
    "collapsed": false
   },
   "outputs": [],
   "source": [
    "def softmax(x, tau=1):\n",
    "    e_x = np.exp(x / tau)\n",
    "    return e_x / e_x.sum()"
   ]
  },
  {
   "cell_type": "code",
   "execution_count": null,
   "metadata": {
    "collapsed": true
   },
   "outputs": [],
   "source": [
    "def toClosest(s):\n",
    "    return np.abs(xx - s[0]).argmin(), np.abs(yy - s[1]).argmin()"
   ]
  },
  {
   "cell_type": "markdown",
   "metadata": {},
   "source": [
    "## Sarsa Algorithm"
   ]
  },
  {
   "cell_type": "code",
   "execution_count": null,
   "metadata": {
    "collapsed": false,
    "scrolled": false
   },
   "outputs": [],
   "source": [
    "\n",
    "np.random.seed(1)\n",
    "w = np.random.rand(width, height, 3)\n",
    "\n",
    "for epi in np.arange(5):\n",
    "    \n",
    "    # no eligibility traces\n",
    "    e = np.ones((width, height, 3))\n",
    "    \n",
    "    # initial state\n",
    "    car.reset()\n",
    "    mv = MountainCarViewer(car)\n",
    "    mv.create_figure(5000, 5000)\n",
    "    \n",
    "    # initial state\n",
    "    s0 = car.x, car.x_d\n",
    "    # initial random action ???\n",
    "    a0 = np.random.randint(3)\n",
    "        \n",
    "    for trial in np.arange(5000):        \n",
    "        car.apply_force(a0 - 1)\n",
    "        car.simulate_timesteps(steps, dt)\n",
    "        \n",
    "        s1 = car.x, car.x_d\n",
    "        s1_d = toClosest(sp)\n",
    "\n",
    "        if np.random.rand() < epsilon:\n",
    "            a1 = np.argmax([Q(s1, a, w) for a in range(3)])\n",
    "        else:\n",
    "            a1 = np.random.randint(3)\n",
    "        \n",
    "        delta = car.R + gamma * Q(s1, a1, w) - Q(s0, a0, w)\n",
    "        \n",
    "        e *= gamma * lmbda\n",
    "        e[spd[0], spd[1], a] += 1\n",
    "        \n",
    "        w += eta * delta * e\n",
    "            \n",
    "        a0 = a1\n",
    "        s0 = s1\n",
    "        \n",
    "        mv.update_figure()\n",
    "        plt.draw()\n",
    "        \n",
    "        if car.R > 0.0:\n",
    "            print(\"\\rreward obtained at t = \", car.t)\n",
    "            break\n",
    "        \n"
   ]
  }
 ],
 "metadata": {
  "kernelspec": {
   "display_name": "Python 3",
   "language": "python",
   "name": "python3"
  },
  "language_info": {
   "codemirror_mode": {
    "name": "ipython",
    "version": 3
   },
   "file_extension": ".py",
   "mimetype": "text/x-python",
   "name": "python",
   "nbconvert_exporter": "python",
   "pygments_lexer": "ipython3",
   "version": "3.6.0"
  }
 },
 "nbformat": 4,
 "nbformat_minor": 2
}
